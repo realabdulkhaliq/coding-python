{
 "cells": [
  {
   "cell_type": "code",
   "execution_count": 1,
   "metadata": {},
   "outputs": [],
   "source": [
    "class Teacher():\n",
    "    def __init__(self)->None:\n",
    "        self.name = None"
   ]
  },
  {
   "cell_type": "code",
   "execution_count": 2,
   "metadata": {},
   "outputs": [],
   "source": [
    "class Teacher():\n",
    "    def __init__(self)->None:\n",
    "        self.name = \"Ali\""
   ]
  },
  {
   "cell_type": "code",
   "execution_count": 3,
   "metadata": {},
   "outputs": [],
   "source": [
    "class Teacher():\n",
    "    def __init__(self, teacher_name: str)->None:\n",
    "        self.name: str = teacher_name"
   ]
  },
  {
   "cell_type": "code",
   "execution_count": 4,
   "metadata": {},
   "outputs": [],
   "source": [
    "class Teacher():\n",
    "    class_variable_counter: int = 0\n",
    "    class_variable_org: str = \"AKRSM\"\n",
    "    def __init__(self, teacher_name: str)->None:\n",
    "        self.name: str = teacher_name"
   ]
  },
  {
   "cell_type": "code",
   "execution_count": 5,
   "metadata": {},
   "outputs": [
    {
     "data": {
      "text/plain": [
       "0"
      ]
     },
     "execution_count": 5,
     "metadata": {},
     "output_type": "execute_result"
    }
   ],
   "source": [
    "Teacher.class_variable_counter"
   ]
  },
  {
   "cell_type": "code",
   "execution_count": 6,
   "metadata": {},
   "outputs": [
    {
     "data": {
      "text/plain": [
       "'AKRSM'"
      ]
     },
     "execution_count": 6,
     "metadata": {},
     "output_type": "execute_result"
    }
   ],
   "source": [
    "Teacher.class_variable_org"
   ]
  },
  {
   "cell_type": "code",
   "execution_count": 7,
   "metadata": {},
   "outputs": [],
   "source": [
    "class Teacher():\n",
    "    class_variable_counter: int = 0\n",
    "    class_variable_org: str = \"AKRSM\"\n",
    "    def __init__(self, teacher_name: str)->None:\n",
    "        self.name: str = teacher_name\n",
    "        Teacher.class_variable_counter += 1"
   ]
  },
  {
   "cell_type": "code",
   "execution_count": 8,
   "metadata": {},
   "outputs": [],
   "source": [
    "obj1 : Teacher = Teacher(\"Umar\")"
   ]
  },
  {
   "cell_type": "code",
   "execution_count": 9,
   "metadata": {},
   "outputs": [
    {
     "data": {
      "text/plain": [
       "1"
      ]
     },
     "execution_count": 9,
     "metadata": {},
     "output_type": "execute_result"
    }
   ],
   "source": [
    "Teacher.class_variable_counter"
   ]
  },
  {
   "cell_type": "code",
   "execution_count": 10,
   "metadata": {},
   "outputs": [
    {
     "data": {
      "text/plain": [
       "1"
      ]
     },
     "execution_count": 10,
     "metadata": {},
     "output_type": "execute_result"
    }
   ],
   "source": [
    "obj1.class_variable_counter"
   ]
  },
  {
   "cell_type": "code",
   "execution_count": 11,
   "metadata": {},
   "outputs": [
    {
     "data": {
      "text/plain": [
       "2"
      ]
     },
     "execution_count": 11,
     "metadata": {},
     "output_type": "execute_result"
    }
   ],
   "source": [
    "obj2 : Teacher = Teacher(\"Hassan\")\n",
    "obj2.class_variable_counter\n",
    "# Now it tells the total number of objects formed"
   ]
  },
  {
   "cell_type": "code",
   "execution_count": 12,
   "metadata": {},
   "outputs": [],
   "source": [
    "class Employee(Teacher):\n",
    "    pass"
   ]
  },
  {
   "cell_type": "code",
   "execution_count": 13,
   "metadata": {},
   "outputs": [],
   "source": [
    "emp1: Employee = Employee(\"Saad\")"
   ]
  },
  {
   "cell_type": "code",
   "execution_count": 14,
   "metadata": {},
   "outputs": [
    {
     "data": {
      "text/plain": [
       "3"
      ]
     },
     "execution_count": 14,
     "metadata": {},
     "output_type": "execute_result"
    }
   ],
   "source": [
    "Employee.class_variable_counter"
   ]
  },
  {
   "cell_type": "code",
   "execution_count": 15,
   "metadata": {},
   "outputs": [
    {
     "data": {
      "text/plain": [
       "3"
      ]
     },
     "execution_count": 15,
     "metadata": {},
     "output_type": "execute_result"
    }
   ],
   "source": [
    "emp1.class_variable_counter"
   ]
  },
  {
   "cell_type": "markdown",
   "metadata": {},
   "source": [
    "## Multiple Inheritance"
   ]
  },
  {
   "cell_type": "code",
   "execution_count": 24,
   "metadata": {},
   "outputs": [
    {
     "name": "stdout",
     "output_type": "stream",
     "text": [
      "object height 6 Feet\n",
      "object eye color blue\n",
      "Monther Speaking function: Pakistan zinda bad\n",
      "\n",
      "        Name: Qasim\n",
      "        Father Name: Aslam\n",
      "        Mother Name: Bano\n",
      "        \n",
      "Aslam\n"
     ]
    }
   ],
   "source": [
    "class Mother:\n",
    "    def __init__(self,name:str) -> None:\n",
    "        self.name : str = name\n",
    "        self.eye_color : str = \"blue\"\n",
    "    \n",
    "    def speaking(self, words : str )->str:\n",
    "        return f\"Monther Speaking function: {words}\"\n",
    "\n",
    "class Father:\n",
    "    def __init__(self, name:str)->None:\n",
    "        self.name : str = name\n",
    "        self.height : str = \"6 Feet\"\n",
    "\n",
    "    def speaking(self, words : str )->str:\n",
    "        return f\"Father Speaking function: {words}\"\n",
    "\n",
    "class Child(Mother, Father):\n",
    "    def __init__(self, mother_name : str, father_name : str , child_name: str)->None:\n",
    "        Mother.__init__(self, mother_name)\n",
    "        Father.__init__(self, father_name)\n",
    "        self.child_name : str = child_name\n",
    "        self.father_name : str = father_name\n",
    "        self.mother_name : str = mother_name\n",
    "\n",
    "    def introduction(self)->str:\n",
    "        return f\"\"\"\n",
    "        Name: {self.child_name}\n",
    "        Father Name: {self.father_name}\n",
    "        Mother Name: {self.mother_name}\n",
    "        \"\"\"\n",
    "\n",
    "qasim : Child = Child(\"Bano\", \"Aslam\",\"Qasim\")\n",
    "\n",
    "print(f\"object height {qasim.height}\")\n",
    "print(f\"object eye color {qasim.eye_color}\")\n",
    "print(qasim.speaking(\"Pakistan zinda bad\"))\n",
    "print(qasim.introduction())\n",
    "print(qasim.father_name)\n"
   ]
  },
  {
   "cell_type": "code",
   "execution_count": 26,
   "metadata": {},
   "outputs": [
    {
     "name": "stdout",
     "output_type": "stream",
     "text": [
      "object height 6 Feet\n",
      "object eye color blue\n",
      "Father Speaking function: Pakistan zinda bad\n",
      "\n",
      "        Name: Muhammad Qasim\n",
      "        Father Name: Muhammad Aslam\n",
      "        Mother Name: Naseem Bano\n",
      "        \n"
     ]
    }
   ],
   "source": [
    "class Mother:\n",
    "    def __init__(self,name:str) -> None:\n",
    "        self.mother_name : str = name\n",
    "        self.eye_color : str = \"blue\"\n",
    "    \n",
    "    def speaking(self, words : str )->str:\n",
    "        return f\"Monther Speaking function: {words}\"\n",
    "\n",
    "class Father:\n",
    "    def __init__(self, name:str)->None:\n",
    "        self.father_name : str = name\n",
    "        self.height : str = \"6 Feet\"\n",
    "\n",
    "    def speaking(self, words : str )->str:\n",
    "        return f\"Father Speaking function: {words}\"\n",
    "\n",
    "class Child(Father, Mother):\n",
    "    def __init__(self, mother_name : str, father_name : str , child_name: str)->None:\n",
    "        Mother.__init__(self, mother_name)\n",
    "        Father.__init__(self, father_name)\n",
    "        self.child_name : str = child_name\n",
    "\n",
    "    def introduction(self)->str:\n",
    "        return f\"\"\"\n",
    "        Name: {self.child_name}\n",
    "        Father Name: {self.father_name}\n",
    "        Mother Name: {self.mother_name}\n",
    "        \"\"\"\n",
    "\n",
    "\n",
    "qasim : Child = Child(\"Naseem Bano\", \"Muhammad Aslam\",\"Muhammad Qasim\")\n",
    "\n",
    "print(f\"object height {qasim.height}\")\n",
    "print(f\"object eye color {qasim.eye_color}\")\n",
    "print(qasim.speaking(\"Pakistan zinda bad\"))\n",
    "print(qasim.introduction())"
   ]
  },
  {
   "cell_type": "markdown",
   "metadata": {},
   "source": [
    "اوپر والا مسءلہ ہیا ں ھل ہو گیا"
   ]
  },
  {
   "cell_type": "markdown",
   "metadata": {},
   "source": [
    "Now the problem is solved otherwise the class closer to Child its properties or methods overrides the other. i-e: Only Father name is printed"
   ]
  },
  {
   "cell_type": "markdown",
   "metadata": {},
   "source": [
    "## Method Overloading"
   ]
  },
  {
   "cell_type": "code",
   "execution_count": 27,
   "metadata": {},
   "outputs": [
    {
     "name": "stdout",
     "output_type": "stream",
     "text": [
      "3\n",
      "4.0\n",
      "Hello, world!\n"
     ]
    }
   ],
   "source": [
    "\n",
    "from typing import Union, overload\n",
    "\n",
    "class Adder:\n",
    "    @overload\n",
    "    def add(self, x: int, y: int) -> int:\n",
    "        ...\n",
    "        \n",
    "    @overload\n",
    "    def add(self, x: float, y: float) -> float:\n",
    "        ...\n",
    "        \n",
    "    @overload\n",
    "    def add(self, x: str, y: str) -> str:\n",
    "        ...\n",
    "        \n",
    "    \n",
    "    def add(self, x: Union[int, float, str], y: Union[int, float, str]) -> Union[int, float, str]:\n",
    "        if isinstance(x, int) and isinstance(y, int):\n",
    "            return x + y\n",
    "        elif isinstance(x, float) and isinstance(y, float):\n",
    "            return x + y\n",
    "        elif isinstance(x, str) and isinstance(y, str):\n",
    "            return x + y\n",
    "        else:\n",
    "            raise TypeError(\"Invalid argument types!\")\n",
    "\n",
    "# Usage examples\n",
    "adder = Adder()\n",
    "result1 = adder.add(1, 2)  # Should return 3\n",
    "result2 = adder.add(1.5, 2.5)  # Should return 4.0\n",
    "result3 = adder.add(\"Hello, \", \"world!\")  # Should return \"Hello, world!\"\n",
    "\n",
    "print(result1)\n",
    "print(result2)\n",
    "print(result3)\n",
    "\n",
    "# Overridding & polymorphism\n"
   ]
  },
  {
   "cell_type": "markdown",
   "metadata": {},
   "source": [
    "## Function Overloading"
   ]
  },
  {
   "cell_type": "code",
   "execution_count": 29,
   "metadata": {},
   "outputs": [
    {
     "name": "stdout",
     "output_type": "stream",
     "text": [
      "3\n",
      "4.0\n",
      "Hello, world!\n"
     ]
    }
   ],
   "source": [
    "from typing import Union, overload\n",
    "\n",
    "@overload\n",
    "def add(x: int, y: int) -> int:\n",
    "    ...\n",
    "\n",
    "@overload\n",
    "def add(x: float, y: float) -> float:\n",
    "    ...\n",
    "\n",
    "@overload\n",
    "def add(x: str, y: str) -> str:\n",
    "    ...\n",
    "\n",
    "def add(x: Union[int, float, str], y: Union[int, float, str]) -> Union[int, float, str]:\n",
    "    if isinstance(x, int) and isinstance(y, int):\n",
    "        return x + y\n",
    "    elif isinstance(x, float) and isinstance(y, float):\n",
    "        return x + y\n",
    "    elif isinstance(x, str) and isinstance(y, str):\n",
    "        return x + y\n",
    "    else:\n",
    "        raise TypeError(\"Invalid argument types!\")\n",
    "\n",
    "# Usage examples\n",
    "result1 = add(1, 2)  # Should return 3\n",
    "result2 = add(1.5, 2.5)  # Should return 4.0\n",
    "result3 = add(\"Hello, \", \"world!\")  # Should return \"Hello, world!\"\n",
    "\n",
    "print(result1)\n",
    "print(result2)\n",
    "print(result3)"
   ]
  },
  {
   "cell_type": "markdown",
   "metadata": {},
   "source": [
    "## Callable"
   ]
  },
  {
   "cell_type": "code",
   "execution_count": 7,
   "metadata": {},
   "outputs": [
    {
     "name": "stdout",
     "output_type": "stream",
     "text": [
      "AK\n",
      "Hello! My name is A.\n"
     ]
    }
   ],
   "source": [
    "from typing import Any\n",
    "\n",
    "class Human:\n",
    "    def __init__(self, name):\n",
    "        self.name = name\n",
    "    \n",
    "    \n",
    "    def __call__(self, new_name) -> None:\n",
    "        self.new_name = new_name\n",
    "        print(f\"Hello! My name is {self.new_name}.\")\n",
    "\n",
    "\n",
    "human : Human = Human(\"AK\")\n",
    "\n",
    "print(human.name)\n",
    "human(\"A\")\n"
   ]
  },
  {
   "cell_type": "markdown",
   "metadata": {},
   "source": [
    "callable function can be directly called"
   ]
  },
  {
   "cell_type": "code",
   "execution_count": 2,
   "metadata": {},
   "outputs": [
    {
     "name": "stdout",
     "output_type": "stream",
     "text": [
      "120\n"
     ]
    }
   ],
   "source": [
    "class Factorial:\n",
    "    def __init__(self, cache):\n",
    "        self.cache = {0:1, 1:1}\n",
    "\n",
    "    def __call__(self, number) -> None:\n",
    "        if number not in self.cache:\n",
    "            self.cache[number] = number * self(number - 1)\n",
    "        return  self.cache[number]\n",
    "\n",
    "factorial = Factorial({})\n",
    "print(factorial(5))  # Outputs: 120"
   ]
  }
 ],
 "metadata": {
  "kernelspec": {
   "display_name": "py12",
   "language": "python",
   "name": "python3"
  },
  "language_info": {
   "codemirror_mode": {
    "name": "ipython",
    "version": 3
   },
   "file_extension": ".py",
   "mimetype": "text/x-python",
   "name": "python",
   "nbconvert_exporter": "python",
   "pygments_lexer": "ipython3",
   "version": "3.12.0"
  }
 },
 "nbformat": 4,
 "nbformat_minor": 2
}
