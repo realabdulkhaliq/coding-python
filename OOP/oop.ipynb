{
 "cells": [
  {
   "cell_type": "markdown",
   "metadata": {},
   "source": [
    "# Object Oriented Programming"
   ]
  },
  {
   "cell_type": "code",
   "execution_count": null,
   "metadata": {},
   "outputs": [],
   "source": [
    "class Car():\n",
    "    #characteristics/properties/attributes >>> variables\n",
    "    make: str = \"Civic\"\n",
    "    model: str = '2024'\n",
    "    year: int = 1985\n",
    "\n",
    "    # actions/behaviours >>> methods (functions)\n",
    "    def run():\n",
    "        print(\"Car is running\")\n",
    "    def stop():\n",
    "        print(\"Car has stopped\")"
   ]
  },
  {
   "cell_type": "code",
   "execution_count": 1,
   "metadata": {},
   "outputs": [],
   "source": [
    "class Human():\n",
    "    def __init__(self, name:str, gender:str, age:int, blood: str):\n",
    "        \"\"\"This function is initializer (constructor). Valuse it require are mandatroy to supply\"\"\"\n",
    "        self.name = name\n",
    "        self.gender = gender\n",
    "        self.age = age\n",
    "        self.blood_group = blood\n",
    "\n",
    "    def eat(self):\n",
    "        print(\"{0} is eating.\".format(self.name))\n",
    "\n",
    "    def sleep(self):\n",
    "        print(f\"{self.name} is sleeping\")"
   ]
  },
  {
   "cell_type": "code",
   "execution_count": 2,
   "metadata": {},
   "outputs": [],
   "source": [
    "human1 = Human(\"Ali\", \"Male\", 20, \"O+\")"
   ]
  },
  {
   "cell_type": "code",
   "execution_count": 3,
   "metadata": {},
   "outputs": [
    {
     "data": {
      "text/plain": [
       "'Ali'"
      ]
     },
     "execution_count": 3,
     "metadata": {},
     "output_type": "execute_result"
    }
   ],
   "source": [
    "human1.name"
   ]
  },
  {
   "cell_type": "code",
   "execution_count": 4,
   "metadata": {},
   "outputs": [
    {
     "name": "stdout",
     "output_type": "stream",
     "text": [
      "Ali is eating.\n"
     ]
    }
   ],
   "source": [
    "human1.eat()"
   ]
  },
  {
   "cell_type": "code",
   "execution_count": 5,
   "metadata": {},
   "outputs": [
    {
     "name": "stdout",
     "output_type": "stream",
     "text": [
      "Male\n",
      "20\n"
     ]
    },
    {
     "ename": "AttributeError",
     "evalue": "'Human' object has no attribute 'blood'",
     "output_type": "error",
     "traceback": [
      "\u001b[1;31m---------------------------------------------------------------------------\u001b[0m",
      "\u001b[1;31mAttributeError\u001b[0m                            Traceback (most recent call last)",
      "Cell \u001b[1;32mIn[5], line 3\u001b[0m\n\u001b[0;32m      1\u001b[0m \u001b[38;5;28mprint\u001b[39m(human1\u001b[38;5;241m.\u001b[39mgender)\n\u001b[0;32m      2\u001b[0m \u001b[38;5;28mprint\u001b[39m(human1\u001b[38;5;241m.\u001b[39mage)\n\u001b[1;32m----> 3\u001b[0m \u001b[38;5;28mprint\u001b[39m(\u001b[43mhuman1\u001b[49m\u001b[38;5;241;43m.\u001b[39;49m\u001b[43mblood\u001b[49m)\n",
      "\u001b[1;31mAttributeError\u001b[0m: 'Human' object has no attribute 'blood'"
     ]
    }
   ],
   "source": [
    "print(human1.gender)\n",
    "print(human1.age)\n",
    "print(human1.blood)"
   ]
  },
  {
   "cell_type": "code",
   "execution_count": 6,
   "metadata": {},
   "outputs": [
    {
     "name": "stdout",
     "output_type": "stream",
     "text": [
      "Male\n",
      "20\n",
      "O+\n",
      "=====================\n",
      "Ali is eating.\n",
      "None\n",
      "Ali is sleeping\n",
      "None\n"
     ]
    }
   ],
   "source": [
    "print(human1.gender)\n",
    "print(human1.age)\n",
    "print(human1.blood_group)\n",
    "\n",
    "print(\"=====================\")\n",
    "print(human1.eat())\n",
    "print(human1.sleep())"
   ]
  },
  {
   "cell_type": "markdown",
   "metadata": {},
   "source": [
    "The None values are printed because the eat and sleep methods don't explicitly return anything. When you print the result of calling a function that doesn't have a return statement, it implicitly returns None."
   ]
  },
  {
   "cell_type": "code",
   "execution_count": 7,
   "metadata": {},
   "outputs": [
    {
     "name": "stdout",
     "output_type": "stream",
     "text": [
      "<bound method Human.eat of <__main__.Human object at 0x000001F1E4FB02C0>>\n",
      "<bound method Human.sleep of <__main__.Human object at 0x000001F1E4FB02C0>>\n"
     ]
    }
   ],
   "source": [
    "print(human1.eat)\n",
    "print(human1.sleep)"
   ]
  },
  {
   "cell_type": "markdown",
   "metadata": {},
   "source": [
    "When you print the methods human1.eat and human1.sleep without calling them (i.e., without using parentheses), you are printing references to the methods rather than executing them. The output will show the memory address where these methods are located in memory."
   ]
  },
  {
   "cell_type": "code",
   "execution_count": 18,
   "metadata": {},
   "outputs": [],
   "source": [
    "class Cat():\n",
    "    def __init__(self, age:int, breed:str, name:str=\"Mano\"):\n",
    "        \"\"\"This function is initializer (constructor). Valuse it require are mandatroy to supply\"\"\"\n",
    "        self.name = name\n",
    "        self.breed = breed\n",
    "        self.age = age\n",
    "    \n",
    "    def eat(self)->str:\n",
    "        return (f\"{self.name} is eating\")\n",
    "    "
   ]
  },
  {
   "cell_type": "code",
   "execution_count": 20,
   "metadata": {},
   "outputs": [],
   "source": [
    "cat1: Cat = Cat(2, \"American\", \"Kitty\")\n",
    "cat2: Cat = Cat(1, \"German\")"
   ]
  },
  {
   "cell_type": "code",
   "execution_count": 12,
   "metadata": {},
   "outputs": [
    {
     "name": "stdout",
     "output_type": "stream",
     "text": [
      "2\n",
      "American\n",
      "Kitty\n",
      "Kitty is eating\n",
      "========================\n",
      "1\n",
      "German\n",
      "Mano\n",
      "Mano is eating\n"
     ]
    }
   ],
   "source": [
    "print(cat1.age)\n",
    "print(cat1.breed)\n",
    "print(cat1.name)\n",
    "print(cat1.eat())\n",
    "\n",
    "print(\"========================\")\n",
    "\n",
    "print(cat2.age)\n",
    "print(cat2.breed)\n",
    "print(cat2.name)\n",
    "print(cat2.eat())"
   ]
  },
  {
   "cell_type": "code",
   "execution_count": 13,
   "metadata": {},
   "outputs": [
    {
     "data": {
      "text/plain": [
       "'Kitty is eating'"
      ]
     },
     "execution_count": 13,
     "metadata": {},
     "output_type": "execute_result"
    }
   ],
   "source": [
    "Cat.eat(cat1)"
   ]
  },
  {
   "cell_type": "code",
   "execution_count": 14,
   "metadata": {},
   "outputs": [
    {
     "data": {
      "text/plain": [
       "'Kitty is eating'"
      ]
     },
     "execution_count": 14,
     "metadata": {},
     "output_type": "execute_result"
    }
   ],
   "source": [
    "cat1.eat()"
   ]
  },
  {
   "cell_type": "code",
   "execution_count": 21,
   "metadata": {},
   "outputs": [
    {
     "ename": "AttributeError",
     "evalue": "'Cat' object has no attribute 'getName'",
     "output_type": "error",
     "traceback": [
      "\u001b[1;31m---------------------------------------------------------------------------\u001b[0m",
      "\u001b[1;31mAttributeError\u001b[0m                            Traceback (most recent call last)",
      "Cell \u001b[1;32mIn[21], line 1\u001b[0m\n\u001b[1;32m----> 1\u001b[0m \u001b[43mcat1\u001b[49m\u001b[38;5;241;43m.\u001b[39;49m\u001b[43mgetName\u001b[49m()\n",
      "\u001b[1;31mAttributeError\u001b[0m: 'Cat' object has no attribute 'getName'"
     ]
    }
   ],
   "source": [
    "class Patient()"
   ]
  }
 ],
 "metadata": {
  "kernelspec": {
   "display_name": "py12",
   "language": "python",
   "name": "python3"
  },
  "language_info": {
   "codemirror_mode": {
    "name": "ipython",
    "version": 3
   },
   "file_extension": ".py",
   "mimetype": "text/x-python",
   "name": "python",
   "nbconvert_exporter": "python",
   "pygments_lexer": "ipython3",
   "version": "3.12.0"
  }
 },
 "nbformat": 4,
 "nbformat_minor": 2
}
