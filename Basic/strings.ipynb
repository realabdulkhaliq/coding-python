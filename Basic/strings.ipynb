{
 "cells": [
  {
   "cell_type": "markdown",
   "metadata": {},
   "source": [
    "# Strings"
   ]
  },
  {
   "cell_type": "code",
   "execution_count": 1,
   "metadata": {},
   "outputs": [
    {
     "name": "stdout",
     "output_type": "stream",
     "text": [
      "<class 'str'>\n",
      "Abdul Khaliq\n"
     ]
    }
   ],
   "source": [
    "name: str = \"Abdul Khaliq\"\n",
    "print(type(name))\n",
    "print(name)"
   ]
  },
  {
   "cell_type": "code",
   "execution_count": 8,
   "metadata": {},
   "outputs": [
    {
     "name": "stdout",
     "output_type": "stream",
     "text": [
      "Student's Card \n",
      "Name: Abdul Khaliq \n",
      "Qualification: MSCS (Software Engineering)\n"
     ]
    }
   ],
   "source": [
    "student_card: str = \"Student's Card \\nName: Abdul Khaliq \\nQualification: MSCS (Software Engineering)\"\n",
    "print(student_card)"
   ]
  },
  {
   "cell_type": "code",
   "execution_count": 9,
   "metadata": {},
   "outputs": [
    {
     "name": "stdout",
     "output_type": "stream",
     "text": [
      "Student's Card \n",
      "Name: Abdul Khaliq \n",
      "Qualification: MSCS (Software Engineering)\n"
     ]
    }
   ],
   "source": [
    "student_card2: str = 'Student\\'s Card \\nName: Abdul Khaliq \\nQualification: MSCS (Software Engineering)'\n",
    "print(student_card2)"
   ]
  },
  {
   "cell_type": "code",
   "execution_count": 11,
   "metadata": {},
   "outputs": [
    {
     "name": "stdout",
     "output_type": "stream",
     "text": [
      "Student's Card \n",
      "Name: Abdul Khaliq\n",
      "Qualification: MSCS (Software Engineering)\n",
      "Age: 30\n"
     ]
    }
   ],
   "source": [
    "qualification: str = \"MSCS (Software Engineering)\"\n",
    "age: int = 30\n",
    "student_card3: str = \"Student\\'s Card \\nName: \" + name +  \"\\nQualification: \" + qualification + \"\\nAge: \" + str(age)\n",
    "print(student_card3)"
   ]
  }
 ],
 "metadata": {
  "kernelspec": {
   "display_name": "py12",
   "language": "python",
   "name": "python3"
  },
  "language_info": {
   "codemirror_mode": {
    "name": "ipython",
    "version": 3
   },
   "file_extension": ".py",
   "mimetype": "text/x-python",
   "name": "python",
   "nbconvert_exporter": "python",
   "pygments_lexer": "ipython3",
   "version": "3.12.0"
  }
 },
 "nbformat": 4,
 "nbformat_minor": 2
}
