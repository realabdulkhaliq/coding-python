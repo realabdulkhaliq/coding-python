{
 "cells": [
  {
   "cell_type": "markdown",
   "metadata": {},
   "source": [
    "# Strings"
   ]
  },
  {
   "cell_type": "code",
   "execution_count": 1,
   "metadata": {},
   "outputs": [
    {
     "name": "stdout",
     "output_type": "stream",
     "text": [
      "<class 'str'>\n",
      "Abdul Khaliq\n"
     ]
    }
   ],
   "source": [
    "name: str = \"Abdul Khaliq\"\n",
    "print(type(name))\n",
    "print(name)"
   ]
  },
  {
   "cell_type": "code",
   "execution_count": 15,
   "metadata": {},
   "outputs": [],
   "source": [
    "qualification: str = \"MSCS (Software Engineering)\"\n",
    "age: int = 30"
   ]
  },
  {
   "cell_type": "code",
   "execution_count": 16,
   "metadata": {},
   "outputs": [
    {
     "name": "stdout",
     "output_type": "stream",
     "text": [
      "Student's Card \n",
      "Name: Abdul Khaliq \n",
      "Qualification: MSCS (Software Engineering)\n"
     ]
    }
   ],
   "source": [
    "student_card: str = \"Student's Card \\nName: Abdul Khaliq \\nQualification: MSCS (Software Engineering)\"\n",
    "print(student_card)"
   ]
  },
  {
   "cell_type": "code",
   "execution_count": 17,
   "metadata": {},
   "outputs": [
    {
     "name": "stdout",
     "output_type": "stream",
     "text": [
      "Student's Card \n",
      "Name: Abdul Khaliq \n",
      "Qualification: MSCS (Software Engineering)\n"
     ]
    }
   ],
   "source": [
    "student_card2: str = 'Student\\'s Card \\nName: Abdul Khaliq \\nQualification: MSCS (Software Engineering)'\n",
    "print(student_card2)"
   ]
  },
  {
   "cell_type": "code",
   "execution_count": 18,
   "metadata": {},
   "outputs": [
    {
     "name": "stdout",
     "output_type": "stream",
     "text": [
      "Student's Card \n",
      "Name: Abdul Khaliq\n",
      "Qualification: MSCS (Software Engineering)\n",
      "Age: 30\n"
     ]
    }
   ],
   "source": [
    "\n",
    "student_card3: str = \"Student\\'s Card \\nName: \" + name +  \"\\nQualification: \" + qualification + \"\\nAge: \" + str(age)\n",
    "print(student_card3)"
   ]
  },
  {
   "cell_type": "markdown",
   "metadata": {},
   "source": [
    "In Python same data types can be concatinated"
   ]
  },
  {
   "cell_type": "code",
   "execution_count": 19,
   "metadata": {},
   "outputs": [
    {
     "name": "stdout",
     "output_type": "stream",
     "text": [
      "27\n"
     ]
    }
   ],
   "source": [
    "print(7 + 8 + \\\n",
    "      3 + \\\n",
    "        9)\n",
    "\n",
    "# \\ for line continue"
   ]
  },
  {
   "cell_type": "code",
   "execution_count": 20,
   "metadata": {},
   "outputs": [
    {
     "name": "stdout",
     "output_type": "stream",
     "text": [
      "Student's Card \n",
      "Name: Abdul Khaliq\n",
      "Qualification: MSCS (Software Engineering)\n",
      "Age: 30\n"
     ]
    }
   ],
   "source": [
    "student_card4: str = \"Student\\'s Card \\nName: \" + name + \\\n",
    "      \"\\nQualification: \" + qualification + \\\n",
    "        \"\\nAge: \" + str(age)\n",
    "print(student_card4)"
   ]
  },
  {
   "cell_type": "markdown",
   "metadata": {},
   "source": [
    "## F - String and Jinja Style"
   ]
  },
  {
   "cell_type": "code",
   "execution_count": 22,
   "metadata": {},
   "outputs": [
    {
     "name": "stdout",
     "output_type": "stream",
     "text": [
      "\n",
      "Student's Card\n",
      "Name: Abdul Khaliq\n",
      "Qualification: MSCS (Software Engineering)\n",
      "Age: 30\n"
     ]
    }
   ],
   "source": [
    "student_card5: str = f\"\"\"\n",
    "Student\\'s Card\n",
    "Name: {name}\n",
    "Qualification: {qualification}\n",
    "Age: {age}\"\"\"\n",
    "print(student_card5)"
   ]
  },
  {
   "cell_type": "code",
   "execution_count": 24,
   "metadata": {},
   "outputs": [
    {
     "name": "stdout",
     "output_type": "stream",
     "text": [
      "\n",
      "Student's Card\n",
      "Name: {name}\n",
      "Qualification: {qualification}\n",
      "Age: {age}\n"
     ]
    }
   ],
   "source": [
    "student_card6: str = \"\"\"\n",
    "Student\\'s Card\n",
    "Name: { {name} }\n",
    "Qualification: {qualification}\n",
    "Age: {age}\"\"\"\n",
    "print(student_card6)\n",
    "\n",
    "# Jinja style run on server"
   ]
  },
  {
   "cell_type": "code",
   "execution_count": 27,
   "metadata": {},
   "outputs": [
    {
     "name": "stdout",
     "output_type": "stream",
     "text": [
      "\n",
      "Student's Card\n",
      "Name: Abdul Khaliq\n",
      "Qualification: MSCS (Software Engineering)\n",
      "Age: 30 \n",
      "\n"
     ]
    }
   ],
   "source": [
    "student_card7: str = \"\"\"\n",
    "Student\\'s Card\n",
    "Name: %s\n",
    "Qualification: %s\n",
    "Age: %d \n",
    "\"\"\" % (name, qualification, age)\n",
    "\n",
    "print(student_card7)"
   ]
  },
  {
   "cell_type": "code",
   "execution_count": 29,
   "metadata": {},
   "outputs": [
    {
     "data": {
      "text/plain": [
       "['capitalize',\n",
       " 'casefold',\n",
       " 'center',\n",
       " 'count',\n",
       " 'encode',\n",
       " 'endswith',\n",
       " 'expandtabs',\n",
       " 'find',\n",
       " 'format',\n",
       " 'format_map',\n",
       " 'index',\n",
       " 'isalnum',\n",
       " 'isalpha',\n",
       " 'isascii',\n",
       " 'isdecimal',\n",
       " 'isdigit',\n",
       " 'isidentifier',\n",
       " 'islower',\n",
       " 'isnumeric',\n",
       " 'isprintable',\n",
       " 'isspace',\n",
       " 'istitle',\n",
       " 'isupper',\n",
       " 'join',\n",
       " 'ljust',\n",
       " 'lower',\n",
       " 'lstrip',\n",
       " 'maketrans',\n",
       " 'partition',\n",
       " 'removeprefix',\n",
       " 'removesuffix',\n",
       " 'replace',\n",
       " 'rfind',\n",
       " 'rindex',\n",
       " 'rjust',\n",
       " 'rpartition',\n",
       " 'rsplit',\n",
       " 'rstrip',\n",
       " 'split',\n",
       " 'splitlines',\n",
       " 'startswith',\n",
       " 'strip',\n",
       " 'swapcase',\n",
       " 'title',\n",
       " 'translate',\n",
       " 'upper',\n",
       " 'zfill']"
      ]
     },
     "execution_count": 29,
     "metadata": {},
     "output_type": "execute_result"
    }
   ],
   "source": [
    "[i for i in dir(str) if \"__\" not in i]"
   ]
  },
  {
   "cell_type": "code",
   "execution_count": 30,
   "metadata": {},
   "outputs": [
    {
     "name": "stdout",
     "output_type": "stream",
     "text": [
      "\n",
      "Student's Card\n",
      "Name: Abdul Khaliq\n",
      "Qualification: MSCS (Software Engineering)\n",
      "Age: 30 \n",
      "\n"
     ]
    }
   ],
   "source": [
    "student_card8: str = \"\"\"\n",
    "Student\\'s Card\n",
    "Name: {}\n",
    "Qualification: {}\n",
    "Age: {} \n",
    "\"\"\".format(name, qualification, age)\n",
    "\n",
    "print(student_card8)"
   ]
  },
  {
   "cell_type": "code",
   "execution_count": 31,
   "metadata": {},
   "outputs": [
    {
     "name": "stdout",
     "output_type": "stream",
     "text": [
      "\n",
      "Student's Card\n",
      "Name: Abdul Khaliq\n",
      "Qualification: 30\n",
      "Age: MSCS (Software Engineering) \n",
      "\n"
     ]
    }
   ],
   "source": [
    "student_card9: str = \"\"\"\n",
    "Student\\'s Card\n",
    "Name: {}\n",
    "Qualification: {}\n",
    "Age: {} \n",
    "\"\"\".format(name, age, qualification)\n",
    "\n",
    "print(student_card9)"
   ]
  },
  {
   "cell_type": "code",
   "execution_count": 33,
   "metadata": {},
   "outputs": [
    {
     "name": "stdout",
     "output_type": "stream",
     "text": [
      "\n",
      "Student's Card\n",
      "Name: Abdul Khaliq\n",
      "Qualification: MSCS (Software Engineering)\n",
      "Age: 30 \n",
      "\n"
     ]
    }
   ],
   "source": [
    "student_card10: str = \"\"\"\n",
    "Student\\'s Card\n",
    "Name: {0}\n",
    "Qualification: {2}\n",
    "Age: {1} \n",
    "\"\"\".format(name, age, qualification)\n",
    "\n",
    "print(student_card10)"
   ]
  },
  {
   "cell_type": "code",
   "execution_count": 35,
   "metadata": {},
   "outputs": [
    {
     "name": "stdout",
     "output_type": "stream",
     "text": [
      "\n",
      "Student's Card\n",
      "Name: Abdul Khaliq\n",
      "Qualification: MSCS (Software Engineering)\n",
      "Age: 30 \n",
      "\n"
     ]
    }
   ],
   "source": [
    "student_card11: str = \"\"\"\n",
    "Student\\'s Card\n",
    "Name: {n}\n",
    "Qualification: {q}\n",
    "Age: {a} \n",
    "\"\"\".format(n=name, a=age, q=qualification)\n",
    "\n",
    "print(student_card11)"
   ]
  }
 ],
 "metadata": {
  "kernelspec": {
   "display_name": "py12",
   "language": "python",
   "name": "python3"
  },
  "language_info": {
   "codemirror_mode": {
    "name": "ipython",
    "version": 3
   },
   "file_extension": ".py",
   "mimetype": "text/x-python",
   "name": "python",
   "nbconvert_exporter": "python",
   "pygments_lexer": "ipython3",
   "version": "3.12.0"
  }
 },
 "nbformat": 4,
 "nbformat_minor": 2
}
