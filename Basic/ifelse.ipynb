{
 "cells": [
  {
   "cell_type": "code",
   "execution_count": 1,
   "metadata": {},
   "outputs": [
    {
     "data": {
      "text/plain": [
       "['Pakistan Zindabad']"
      ]
     },
     "execution_count": 1,
     "metadata": {},
     "output_type": "execute_result"
    }
   ],
   "source": [
    "[\"Pakistan Zindabad\" if True else \"Pak Zindabad\"]"
   ]
  },
  {
   "cell_type": "code",
   "execution_count": 2,
   "metadata": {},
   "outputs": [
    {
     "name": "stdout",
     "output_type": "stream",
     "text": [
      "Pakistan Zindabad\n"
     ]
    }
   ],
   "source": [
    "if True:\n",
    "    print(\"Pakistan Zindabad\")\n",
    "else:\n",
    "    print(\"Pak Zindabad\")"
   ]
  },
  {
   "cell_type": "code",
   "execution_count": 3,
   "metadata": {},
   "outputs": [
    {
     "name": "stdout",
     "output_type": "stream",
     "text": [
      "Pak Zindabad\n"
     ]
    }
   ],
   "source": [
    "if False:\n",
    "    print(\"Pakistan Zindabad\")\n",
    "else:\n",
    "    print(\"Pak Zindabad\")"
   ]
  },
  {
   "cell_type": "markdown",
   "metadata": {},
   "source": [
    "https://peps.python.org/pep-0484/#callable"
   ]
  },
  {
   "cell_type": "code",
   "execution_count": 4,
   "metadata": {},
   "outputs": [],
   "source": [
    "# Custom Type\n",
    "from typing import Union\n",
    "PerType = Union[int, float]"
   ]
  },
  {
   "cell_type": "code",
   "execution_count": 7,
   "metadata": {},
   "outputs": [],
   "source": [
    "# Assigning Type\n",
    "percentages : list[PerType]"
   ]
  },
  {
   "cell_type": "code",
   "execution_count": 11,
   "metadata": {},
   "outputs": [
    {
     "name": "stdout",
     "output_type": "stream",
     "text": [
      "[40, 80, 66, 57, 80, 91, 50]\n",
      "['E', 'A+', 'C', 'D', 'A+', 'A+', 'D']\n"
     ]
    },
    {
     "data": {
      "text/plain": [
       "[(40, 'E'),\n",
       " (80, 'A+'),\n",
       " (66, 'C'),\n",
       " (57, 'D'),\n",
       " (80, 'A+'),\n",
       " (91, 'A+'),\n",
       " (50, 'D')]"
      ]
     },
     "execution_count": 11,
     "metadata": {},
     "output_type": "execute_result"
    }
   ],
   "source": [
    "percentages = [40, 80, 66, 57, 80, 91, 50]\n",
    "grades: list[str] =[]\n",
    "\n",
    "for percentage in percentages:\n",
    "    grade: str = \"\"\n",
    "\n",
    "    if percentage >= 90:\n",
    "        grade = \"A+\"\n",
    "    elif percentage >= 80:\n",
    "        grade = \"A+\"\n",
    "    elif percentage >= 70:\n",
    "        grade = \"B\"\n",
    "    elif percentage >= 60:\n",
    "        grade = \"C\"\n",
    "    elif percentage >= 50:\n",
    "        grade = \"D\"\n",
    "    elif percentage >= 40:\n",
    "        grade = \"E\"\n",
    "    else:\n",
    "        grade = \"F\"\n",
    "\n",
    "    grades.append(grade)\n",
    "\n",
    "print(percentages)\n",
    "print(grades)\n",
    "\n",
    "print(list(zip(percentages, grades)))"
   ]
  }
 ],
 "metadata": {
  "kernelspec": {
   "display_name": "py12",
   "language": "python",
   "name": "python3"
  },
  "language_info": {
   "codemirror_mode": {
    "name": "ipython",
    "version": 3
   },
   "file_extension": ".py",
   "mimetype": "text/x-python",
   "name": "python",
   "nbconvert_exporter": "python",
   "pygments_lexer": "ipython3",
   "version": "3.12.0"
  }
 },
 "nbformat": 4,
 "nbformat_minor": 2
}
