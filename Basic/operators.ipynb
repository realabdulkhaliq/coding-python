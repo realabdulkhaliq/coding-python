{
 "cells": [
  {
   "cell_type": "code",
   "execution_count": 1,
   "metadata": {},
   "outputs": [
    {
     "name": "stdout",
     "output_type": "stream",
     "text": [
      "Requirement already satisfied: pandas in c:\\users\\pc\\anaconda3\\envs\\py12\\lib\\site-packages (2.1.4)\n",
      "Requirement already satisfied: numpy<2,>=1.26.0 in c:\\users\\pc\\anaconda3\\envs\\py12\\lib\\site-packages (from pandas) (1.26.2)\n",
      "Requirement already satisfied: python-dateutil>=2.8.2 in c:\\users\\pc\\anaconda3\\envs\\py12\\lib\\site-packages (from pandas) (2.8.2)\n",
      "Requirement already satisfied: pytz>=2020.1 in c:\\users\\pc\\anaconda3\\envs\\py12\\lib\\site-packages (from pandas) (2023.3.post1)\n",
      "Requirement already satisfied: tzdata>=2022.1 in c:\\users\\pc\\anaconda3\\envs\\py12\\lib\\site-packages (from pandas) (2023.3)\n",
      "Requirement already satisfied: six>=1.5 in c:\\users\\pc\\anaconda3\\envs\\py12\\lib\\site-packages (from python-dateutil>=2.8.2->pandas) (1.16.0)\n"
     ]
    }
   ],
   "source": [
    "!pip install pandas"
   ]
  },
  {
   "cell_type": "code",
   "execution_count": 2,
   "metadata": {},
   "outputs": [
    {
     "data": {
      "text/html": [
       "<div>\n",
       "<style scoped>\n",
       "    .dataframe tbody tr th:only-of-type {\n",
       "        vertical-align: middle;\n",
       "    }\n",
       "\n",
       "    .dataframe tbody tr th {\n",
       "        vertical-align: top;\n",
       "    }\n",
       "\n",
       "    .dataframe thead th {\n",
       "        text-align: right;\n",
       "    }\n",
       "</style>\n",
       "<table border=\"1\" class=\"dataframe\">\n",
       "  <thead>\n",
       "    <tr style=\"text-align: right;\">\n",
       "      <th></th>\n",
       "      <th>Operator</th>\n",
       "      <th>Name</th>\n",
       "      <th>Example</th>\n",
       "      <th>Try it</th>\n",
       "    </tr>\n",
       "  </thead>\n",
       "  <tbody>\n",
       "    <tr>\n",
       "      <th>0</th>\n",
       "      <td>+</td>\n",
       "      <td>Addition</td>\n",
       "      <td>x + y</td>\n",
       "      <td>Try it »</td>\n",
       "    </tr>\n",
       "    <tr>\n",
       "      <th>1</th>\n",
       "      <td>-</td>\n",
       "      <td>Subtraction</td>\n",
       "      <td>x - y</td>\n",
       "      <td>Try it »</td>\n",
       "    </tr>\n",
       "    <tr>\n",
       "      <th>2</th>\n",
       "      <td>*</td>\n",
       "      <td>Multiplication</td>\n",
       "      <td>x * y</td>\n",
       "      <td>Try it »</td>\n",
       "    </tr>\n",
       "    <tr>\n",
       "      <th>3</th>\n",
       "      <td>/</td>\n",
       "      <td>Division</td>\n",
       "      <td>x / y</td>\n",
       "      <td>Try it »</td>\n",
       "    </tr>\n",
       "    <tr>\n",
       "      <th>4</th>\n",
       "      <td>%</td>\n",
       "      <td>Modulus</td>\n",
       "      <td>x % y</td>\n",
       "      <td>Try it »</td>\n",
       "    </tr>\n",
       "    <tr>\n",
       "      <th>5</th>\n",
       "      <td>**</td>\n",
       "      <td>Exponentiation</td>\n",
       "      <td>x ** y</td>\n",
       "      <td>Try it »</td>\n",
       "    </tr>\n",
       "    <tr>\n",
       "      <th>6</th>\n",
       "      <td>//</td>\n",
       "      <td>Floor division</td>\n",
       "      <td>x // y</td>\n",
       "      <td>Try it »</td>\n",
       "    </tr>\n",
       "  </tbody>\n",
       "</table>\n",
       "</div>"
      ],
      "text/plain": [
       "  Operator            Name Example    Try it\n",
       "0        +        Addition   x + y  Try it »\n",
       "1        -     Subtraction   x - y  Try it »\n",
       "2        *  Multiplication   x * y  Try it »\n",
       "3        /        Division   x / y  Try it »\n",
       "4        %         Modulus   x % y  Try it »\n",
       "5       **  Exponentiation  x ** y  Try it »\n",
       "6       //  Floor division  x // y  Try it »"
      ]
     },
     "execution_count": 2,
     "metadata": {},
     "output_type": "execute_result"
    }
   ],
   "source": [
    "import pandas as pd\n",
    "\n",
    "table = pd.read_html('https://www.w3schools.com/python/python_operators.asp')\n",
    "\n",
    "table[0]"
   ]
  },
  {
   "cell_type": "markdown",
   "metadata": {},
   "source": [
    "All, the tables on https://www.w3schools.com/python/python_operators.asp this page converted in to pandas dataframe"
   ]
  },
  {
   "cell_type": "code",
   "execution_count": 23,
   "metadata": {},
   "outputs": [
    {
     "data": {
      "text/plain": [
       "28.5"
      ]
     },
     "metadata": {},
     "output_type": "display_data"
    }
   ],
   "source": [
    "solve_this = (3+2)*5/2-4**2+8//2*8\n",
    "        #      5  *5/2-16+8//2*8\n",
    "        #      25/2-16+4*8\n",
    "        #       12.5-16+32\n",
    "        #       44.5-16\n",
    "\n",
    "display(solve_this)"
   ]
  },
  {
   "cell_type": "code",
   "execution_count": 30,
   "metadata": {},
   "outputs": [
    {
     "data": {
      "text/plain": [
       "2.0"
      ]
     },
     "execution_count": 30,
     "metadata": {},
     "output_type": "execute_result"
    }
   ],
   "source": [
    "5.4//2"
   ]
  },
  {
   "cell_type": "markdown",
   "metadata": {},
   "source": [
    "Answer is float in integeral division because 5.4 is float"
   ]
  },
  {
   "cell_type": "code",
   "execution_count": 24,
   "metadata": {},
   "outputs": [
    {
     "data": {
      "text/html": [
       "<div>\n",
       "<style scoped>\n",
       "    .dataframe tbody tr th:only-of-type {\n",
       "        vertical-align: middle;\n",
       "    }\n",
       "\n",
       "    .dataframe tbody tr th {\n",
       "        vertical-align: top;\n",
       "    }\n",
       "\n",
       "    .dataframe thead th {\n",
       "        text-align: right;\n",
       "    }\n",
       "</style>\n",
       "<table border=\"1\" class=\"dataframe\">\n",
       "  <thead>\n",
       "    <tr style=\"text-align: right;\">\n",
       "      <th></th>\n",
       "      <th>Operator</th>\n",
       "      <th>Example</th>\n",
       "      <th>Same As</th>\n",
       "      <th>Try it</th>\n",
       "    </tr>\n",
       "  </thead>\n",
       "  <tbody>\n",
       "    <tr>\n",
       "      <th>0</th>\n",
       "      <td>=</td>\n",
       "      <td>x = 5</td>\n",
       "      <td>x = 5</td>\n",
       "      <td>Try it »</td>\n",
       "    </tr>\n",
       "    <tr>\n",
       "      <th>1</th>\n",
       "      <td>+=</td>\n",
       "      <td>x += 3</td>\n",
       "      <td>x = x + 3</td>\n",
       "      <td>Try it »</td>\n",
       "    </tr>\n",
       "    <tr>\n",
       "      <th>2</th>\n",
       "      <td>-=</td>\n",
       "      <td>x -= 3</td>\n",
       "      <td>x = x - 3</td>\n",
       "      <td>Try it »</td>\n",
       "    </tr>\n",
       "    <tr>\n",
       "      <th>3</th>\n",
       "      <td>*=</td>\n",
       "      <td>x *= 3</td>\n",
       "      <td>x = x * 3</td>\n",
       "      <td>Try it »</td>\n",
       "    </tr>\n",
       "    <tr>\n",
       "      <th>4</th>\n",
       "      <td>/=</td>\n",
       "      <td>x /= 3</td>\n",
       "      <td>x = x / 3</td>\n",
       "      <td>Try it »</td>\n",
       "    </tr>\n",
       "    <tr>\n",
       "      <th>5</th>\n",
       "      <td>%=</td>\n",
       "      <td>x %= 3</td>\n",
       "      <td>x = x % 3</td>\n",
       "      <td>Try it »</td>\n",
       "    </tr>\n",
       "    <tr>\n",
       "      <th>6</th>\n",
       "      <td>//=</td>\n",
       "      <td>x //= 3</td>\n",
       "      <td>x = x // 3</td>\n",
       "      <td>Try it »</td>\n",
       "    </tr>\n",
       "    <tr>\n",
       "      <th>7</th>\n",
       "      <td>**=</td>\n",
       "      <td>x **= 3</td>\n",
       "      <td>x = x ** 3</td>\n",
       "      <td>Try it »</td>\n",
       "    </tr>\n",
       "    <tr>\n",
       "      <th>8</th>\n",
       "      <td>&amp;=</td>\n",
       "      <td>x &amp;= 3</td>\n",
       "      <td>x = x &amp; 3</td>\n",
       "      <td>Try it »</td>\n",
       "    </tr>\n",
       "    <tr>\n",
       "      <th>9</th>\n",
       "      <td>|=</td>\n",
       "      <td>x |= 3</td>\n",
       "      <td>x = x | 3</td>\n",
       "      <td>Try it »</td>\n",
       "    </tr>\n",
       "    <tr>\n",
       "      <th>10</th>\n",
       "      <td>^=</td>\n",
       "      <td>x ^= 3</td>\n",
       "      <td>x = x ^ 3</td>\n",
       "      <td>Try it »</td>\n",
       "    </tr>\n",
       "    <tr>\n",
       "      <th>11</th>\n",
       "      <td>&gt;&gt;=</td>\n",
       "      <td>x &gt;&gt;= 3</td>\n",
       "      <td>x = x &gt;&gt; 3</td>\n",
       "      <td>Try it »</td>\n",
       "    </tr>\n",
       "    <tr>\n",
       "      <th>12</th>\n",
       "      <td>&lt;&lt;=</td>\n",
       "      <td>x &lt;&lt;= 3</td>\n",
       "      <td>x = x &lt;&lt; 3</td>\n",
       "      <td>Try it »</td>\n",
       "    </tr>\n",
       "  </tbody>\n",
       "</table>\n",
       "</div>"
      ],
      "text/plain": [
       "   Operator  Example     Same As    Try it\n",
       "0         =    x = 5       x = 5  Try it »\n",
       "1        +=   x += 3   x = x + 3  Try it »\n",
       "2        -=   x -= 3   x = x - 3  Try it »\n",
       "3        *=   x *= 3   x = x * 3  Try it »\n",
       "4        /=   x /= 3   x = x / 3  Try it »\n",
       "5        %=   x %= 3   x = x % 3  Try it »\n",
       "6       //=  x //= 3  x = x // 3  Try it »\n",
       "7       **=  x **= 3  x = x ** 3  Try it »\n",
       "8        &=   x &= 3   x = x & 3  Try it »\n",
       "9        |=   x |= 3   x = x | 3  Try it »\n",
       "10       ^=   x ^= 3   x = x ^ 3  Try it »\n",
       "11      >>=  x >>= 3  x = x >> 3  Try it »\n",
       "12      <<=  x <<= 3  x = x << 3  Try it »"
      ]
     },
     "execution_count": 24,
     "metadata": {},
     "output_type": "execute_result"
    }
   ],
   "source": [
    "table[1]"
   ]
  },
  {
   "cell_type": "markdown",
   "metadata": {},
   "source": [
    "Assignment Operators = Performe operation and on the same time assign the value back to variable"
   ]
  },
  {
   "cell_type": "code",
   "execution_count": 28,
   "metadata": {},
   "outputs": [
    {
     "name": "stdout",
     "output_type": "stream",
     "text": [
      "8\n",
      "2\n",
      "1.6666666666666667\n"
     ]
    }
   ],
   "source": [
    "a = 5\n",
    "a+=3\n",
    "print(a)\n",
    "b=5\n",
    "b-=3\n",
    "print(b)\n",
    "c=5\n",
    "c/=3\n",
    "print(c)\n",
    "\n"
   ]
  },
  {
   "cell_type": "code",
   "execution_count": 29,
   "metadata": {},
   "outputs": [
    {
     "name": "stdout",
     "output_type": "stream",
     "text": [
      "2\n",
      "15\n",
      "1\n",
      "125\n"
     ]
    }
   ],
   "source": [
    "d=5\n",
    "d%=3\n",
    "print(d)\n",
    "e=5\n",
    "e*=3\n",
    "print(e)\n",
    "f=5\n",
    "f//=3\n",
    "print(f)\n",
    "g=5\n",
    "g**=3\n",
    "print(g)"
   ]
  },
  {
   "cell_type": "code",
   "execution_count": 31,
   "metadata": {},
   "outputs": [
    {
     "data": {
      "text/html": [
       "<div>\n",
       "<style scoped>\n",
       "    .dataframe tbody tr th:only-of-type {\n",
       "        vertical-align: middle;\n",
       "    }\n",
       "\n",
       "    .dataframe tbody tr th {\n",
       "        vertical-align: top;\n",
       "    }\n",
       "\n",
       "    .dataframe thead th {\n",
       "        text-align: right;\n",
       "    }\n",
       "</style>\n",
       "<table border=\"1\" class=\"dataframe\">\n",
       "  <thead>\n",
       "    <tr style=\"text-align: right;\">\n",
       "      <th></th>\n",
       "      <th>Operator</th>\n",
       "      <th>Name</th>\n",
       "      <th>Example</th>\n",
       "      <th>Try it</th>\n",
       "    </tr>\n",
       "  </thead>\n",
       "  <tbody>\n",
       "    <tr>\n",
       "      <th>0</th>\n",
       "      <td>==</td>\n",
       "      <td>Equal</td>\n",
       "      <td>x == y</td>\n",
       "      <td>Try it »</td>\n",
       "    </tr>\n",
       "    <tr>\n",
       "      <th>1</th>\n",
       "      <td>!=</td>\n",
       "      <td>Not equal</td>\n",
       "      <td>x != y</td>\n",
       "      <td>Try it »</td>\n",
       "    </tr>\n",
       "    <tr>\n",
       "      <th>2</th>\n",
       "      <td>&gt;</td>\n",
       "      <td>Greater than</td>\n",
       "      <td>x &gt; y</td>\n",
       "      <td>Try it »</td>\n",
       "    </tr>\n",
       "    <tr>\n",
       "      <th>3</th>\n",
       "      <td>&lt;</td>\n",
       "      <td>Less than</td>\n",
       "      <td>x &lt; y</td>\n",
       "      <td>Try it »</td>\n",
       "    </tr>\n",
       "    <tr>\n",
       "      <th>4</th>\n",
       "      <td>&gt;=</td>\n",
       "      <td>Greater than or equal to</td>\n",
       "      <td>x &gt;= y</td>\n",
       "      <td>Try it »</td>\n",
       "    </tr>\n",
       "    <tr>\n",
       "      <th>5</th>\n",
       "      <td>&lt;=</td>\n",
       "      <td>Less than or equal to</td>\n",
       "      <td>x &lt;= y</td>\n",
       "      <td>Try it »</td>\n",
       "    </tr>\n",
       "  </tbody>\n",
       "</table>\n",
       "</div>"
      ],
      "text/plain": [
       "  Operator                      Name Example    Try it\n",
       "0       ==                     Equal  x == y  Try it »\n",
       "1       !=                 Not equal  x != y  Try it »\n",
       "2        >              Greater than   x > y  Try it »\n",
       "3        <                 Less than   x < y  Try it »\n",
       "4       >=  Greater than or equal to  x >= y  Try it »\n",
       "5       <=     Less than or equal to  x <= y  Try it »"
      ]
     },
     "execution_count": 31,
     "metadata": {},
     "output_type": "execute_result"
    }
   ],
   "source": [
    "table[2]"
   ]
  },
  {
   "cell_type": "code",
   "execution_count": 32,
   "metadata": {},
   "outputs": [
    {
     "name": "stdout",
     "output_type": "stream",
     "text": [
      "False\n"
     ]
    }
   ],
   "source": [
    "a: int = 5\n",
    "b: str = '5'\n",
    "\n",
    "print(a==b)"
   ]
  },
  {
   "cell_type": "code",
   "execution_count": 33,
   "metadata": {},
   "outputs": [
    {
     "name": "stdout",
     "output_type": "stream",
     "text": [
      "True\n"
     ]
    }
   ],
   "source": [
    "a: int = 5\n",
    "b: str = '5'\n",
    "\n",
    "print(a != b)"
   ]
  },
  {
   "cell_type": "code",
   "execution_count": 34,
   "metadata": {},
   "outputs": [
    {
     "ename": "TypeError",
     "evalue": "'>' not supported between instances of 'str' and 'int'",
     "output_type": "error",
     "traceback": [
      "\u001b[1;31m---------------------------------------------------------------------------\u001b[0m",
      "\u001b[1;31mTypeError\u001b[0m                                 Traceback (most recent call last)",
      "Cell \u001b[1;32mIn[34], line 4\u001b[0m\n\u001b[0;32m      1\u001b[0m a: \u001b[38;5;28mint\u001b[39m \u001b[38;5;241m=\u001b[39m \u001b[38;5;241m5\u001b[39m\n\u001b[0;32m      2\u001b[0m b: \u001b[38;5;28mstr\u001b[39m \u001b[38;5;241m=\u001b[39m \u001b[38;5;124m'\u001b[39m\u001b[38;5;124m5\u001b[39m\u001b[38;5;124m'\u001b[39m\n\u001b[1;32m----> 4\u001b[0m \u001b[38;5;28mprint\u001b[39m(\u001b[43mb\u001b[49m\u001b[38;5;241;43m>\u001b[39;49m\u001b[43ma\u001b[49m)\n",
      "\u001b[1;31mTypeError\u001b[0m: '>' not supported between instances of 'str' and 'int'"
     ]
    }
   ],
   "source": [
    "a: int = 5\n",
    "b: str = '5'\n",
    "\n",
    "print(b>a)"
   ]
  },
  {
   "cell_type": "markdown",
   "metadata": {},
   "source": [
    "TypeError: '>' not supported between instances of 'str' and 'int'"
   ]
  },
  {
   "cell_type": "code",
   "execution_count": 35,
   "metadata": {},
   "outputs": [
    {
     "name": "stdout",
     "output_type": "stream",
     "text": [
      "False\n"
     ]
    }
   ],
   "source": [
    "name: str = \"Abdul\"\n",
    "\n",
    "print(not name==\"Abdul\")"
   ]
  },
  {
   "cell_type": "code",
   "execution_count": 36,
   "metadata": {},
   "outputs": [
    {
     "name": "stdout",
     "output_type": "stream",
     "text": [
      "140711557861640\n",
      "140711557861640\n"
     ]
    }
   ],
   "source": [
    "a: str = 'abc'\n",
    "b: str = \"abc\"\n",
    "\n",
    "print(id(a))\n",
    "print(id(b))"
   ]
  },
  {
   "cell_type": "code",
   "execution_count": 38,
   "metadata": {},
   "outputs": [
    {
     "data": {
      "text/plain": [
       "True"
      ]
     },
     "execution_count": 38,
     "metadata": {},
     "output_type": "execute_result"
    }
   ],
   "source": [
    "# is and is not\n",
    "\n",
    "a is b"
   ]
  },
  {
   "cell_type": "code",
   "execution_count": 40,
   "metadata": {},
   "outputs": [
    {
     "name": "stdout",
     "output_type": "stream",
     "text": [
      "65 A\n",
      "66 B\n",
      "67 C\n",
      "68 D\n",
      "69 E\n",
      "70 F\n",
      "71 G\n",
      "72 H\n",
      "73 I\n",
      "74 J\n",
      "75 K\n",
      "76 L\n",
      "77 M\n",
      "78 N\n",
      "79 O\n",
      "80 P\n",
      "81 Q\n",
      "82 R\n",
      "83 S\n",
      "84 T\n",
      "85 U\n",
      "86 V\n",
      "87 W\n",
      "88 X\n",
      "89 Y\n",
      "90 Z\n"
     ]
    }
   ],
   "source": [
    "for i in range(65, 91):\n",
    "    print(i, chr(i))"
   ]
  },
  {
   "cell_type": "code",
   "execution_count": 47,
   "metadata": {},
   "outputs": [
    {
     "data": {
      "text/plain": [
       "['A',\n",
       " 'B',\n",
       " 'C',\n",
       " 'D',\n",
       " 'E',\n",
       " 'F',\n",
       " 'G',\n",
       " 'H',\n",
       " 'I',\n",
       " 'J',\n",
       " 'K',\n",
       " 'L',\n",
       " 'M',\n",
       " 'N',\n",
       " 'O',\n",
       " 'P',\n",
       " 'Q',\n",
       " 'R',\n",
       " 'S',\n",
       " 'T',\n",
       " 'U',\n",
       " 'V',\n",
       " 'W',\n",
       " 'X',\n",
       " 'Y',\n",
       " 'Z']"
      ]
     },
     "execution_count": 47,
     "metadata": {},
     "output_type": "execute_result"
    }
   ],
   "source": [
    "alphabets: list[str] = [chr(i) for i in range(65, 91)]\n",
    "alphabets"
   ]
  }
 ],
 "metadata": {
  "kernelspec": {
   "display_name": "py12",
   "language": "python",
   "name": "python3"
  },
  "language_info": {
   "codemirror_mode": {
    "name": "ipython",
    "version": 3
   },
   "file_extension": ".py",
   "mimetype": "text/x-python",
   "name": "python",
   "nbconvert_exporter": "python",
   "pygments_lexer": "ipython3",
   "version": "3.12.0"
  }
 },
 "nbformat": 4,
 "nbformat_minor": 2
}
